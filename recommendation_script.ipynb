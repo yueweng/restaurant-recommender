{
 "cells": [
  {
   "cell_type": "code",
   "execution_count": 24,
   "metadata": {},
   "outputs": [
    {
     "name": "stdout",
     "output_type": "stream",
     "text": [
      "                          \n",
      "Recommender 1 Result: \n",
      "---------------------------\n",
      "Restaurant: Noosh\n",
      "                               title  \\\n",
      "29                Kokkari Estiatorio   \n",
      "43                             Troya   \n",
      "53                            Souvla   \n",
      "97                            Barcha   \n",
      "190                    Oren’s Hummus   \n",
      "252                      Saffron 685   \n",
      "609                     Dunya Bistro   \n",
      "618               SAJJ Mediterranean   \n",
      "871            Zaytoon Mediterranean   \n",
      "956  Mangal Mediterranean Restaurant   \n",
      "\n",
      "                                             image_url  \\\n",
      "29   https://s3-media0.fl.yelpcdn.com/bphoto/7StMTf...   \n",
      "43   https://s3-media0.fl.yelpcdn.com/bphoto/MLHVzA...   \n",
      "53   https://s3-media0.fl.yelpcdn.com/bphoto/C5rrts...   \n",
      "97   https://s3-media0.fl.yelpcdn.com/bphoto/olP9gX...   \n",
      "190  https://s3-media0.fl.yelpcdn.com/bphoto/Vk621y...   \n",
      "252  https://s3-media0.fl.yelpcdn.com/bphoto/ON-4HJ...   \n",
      "609  https://s3-media0.fl.yelpcdn.com/bphoto/Kr918C...   \n",
      "618  https://s3-media0.fl.yelpcdn.com/bphoto/lzDp2t...   \n",
      "871  https://s3-media0.fl.yelpcdn.com/bphoto/iCLmMi...   \n",
      "956  https://s3-media0.fl.yelpcdn.com/bphoto/s8p3cm...   \n",
      "\n",
      "                                                   url  price  stars  \\\n",
      "29   https://www.yelp.com/biz/kokkari-estiatorio-sa...    3.0    4.5   \n",
      "43   https://www.yelp.com/biz/troya-san-francisco-3...    2.0    4.0   \n",
      "53   https://www.yelp.com/biz/souvla-san-francisco?...    2.0    4.0   \n",
      "97   https://www.yelp.com/biz/barcha-san-francisco?...    2.0    4.0   \n",
      "190  https://www.yelp.com/biz/orens-hummus-san-fran...    2.0    4.0   \n",
      "252  https://www.yelp.com/biz/saffron-685-san-franc...    2.0    4.0   \n",
      "609  https://www.yelp.com/biz/dunya-bistro-san-fran...    2.0    4.0   \n",
      "618  https://www.yelp.com/biz/sajj-mediterranean-sa...    2.0    4.0   \n",
      "871  https://www.yelp.com/biz/zaytoon-mediterranean...    2.0    4.0   \n",
      "956  https://www.yelp.com/biz/mangal-mediterranean-...    2.0    4.5   \n",
      "\n",
      "                              cuisines        neighborhood  \n",
      "29                Greek, Mediterranean  Financial District  \n",
      "43              Mediterranean, Turkish     Pacific Heights  \n",
      "53                Greek, Mediterranean        Hayes Valley  \n",
      "97   Mediterranean, Tapas/Small Plates  Financial District  \n",
      "190      Mediterranean, Middle Eastern  Financial District  \n",
      "252             Mediterranean, Turkish         Mission Bay  \n",
      "609           Mediterranean, Wine Bars            Nob Hill  \n",
      "618                      Mediterranean         South Beach  \n",
      "871                      Mediterranean                NoPa  \n",
      "956                      Mediterranean      Lower Nob Hill  \n",
      "                          \n",
      "Recommender 2 Result: \n",
      "---------------------------\n",
      "['The Progress', 'Beit Rima', 'Mourad Restaurant', 'Liholiho Yacht Club', 'a Mano', 'Capo’s by Tony Gemignani', 'Palette Tea House', 'Flour + Water', 'Akiko’s Restaurant', 'Montesacro Pinseria SF']\n",
      "                          \n",
      "Recommender 3 Result: \n",
      "---------------------------\n",
      "['Hong Kong Clay Pot Restaurant', 'Pharaohs Mediterranean Sandwiches', 'Los Kuyas', 'The Slanted Door', 'Sweet Lime Thai Cuisine', 'Sumac', 'Izakaya Yoki', 'Indian Paradox', 'Mochica', 'Sichuan Home']\n"
     ]
    }
   ],
   "source": [
    "%run 'src/recommendations.py'"
   ]
  },
  {
   "cell_type": "code",
   "execution_count": null,
   "metadata": {},
   "outputs": [],
   "source": []
  },
  {
   "cell_type": "code",
   "execution_count": null,
   "metadata": {},
   "outputs": [],
   "source": []
  }
 ],
 "metadata": {
  "kernelspec": {
   "display_name": "Python 3",
   "language": "python",
   "name": "python3"
  },
  "language_info": {
   "codemirror_mode": {
    "name": "ipython",
    "version": 3
   },
   "file_extension": ".py",
   "mimetype": "text/x-python",
   "name": "python",
   "nbconvert_exporter": "python",
   "pygments_lexer": "ipython3",
   "version": "3.7.4"
  }
 },
 "nbformat": 4,
 "nbformat_minor": 2
}
