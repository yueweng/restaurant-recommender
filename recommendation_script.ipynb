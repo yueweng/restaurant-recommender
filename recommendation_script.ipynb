{
 "cells": [
  {
   "cell_type": "code",
   "execution_count": 19,
   "metadata": {},
   "outputs": [
    {
     "name": "stdout",
     "output_type": "stream",
     "text": [
      "Enter a Restaurant:Petit Crenn\n",
      "                          \n",
      "Recommender 1 Result: \n",
      "---------------------------\n",
      "Restaurant: Petit Crenn\n",
      "['Atelier Crenn', 'Cocotte', 'Cafe Jacqueline', 'Quince', 'La Folie', 'Bouche', 'Gary Danko', 'Cafe Claude', 'Nico', 'Isa Restaurant', 'Zuni Café', 'Piperade', 'OzaOza', 'Birdsong', 'Californios', 'Eight Tables by George Chen', 'Lazy Bear', 'Spruce', 'Hina Yakitori', 'Mister Jiu’s']\n",
      "                          \n",
      "Recommender 2 Result: \n",
      "---------------------------\n",
      "['Atelier Crenn', 'Farallon', 'Coi', 'Foreign Cinema', 'L’Ardoise Bistro', 'Quince', '25 Lusk', 'Gary Danko', 'Rich Table', 'Bouche', 'Benu', 'Prospect', 'Zazie', 'La Folie', 'Outerlands', 'The House', 'Marlowe', 'Spruce', 'Waterbar', 'Boulevard']\n",
      "                          \n",
      "Recommender 3 Result: \n",
      "---------------------------\n",
      "['K-Elements BBQ', 'Kogi Gogi BBQ', 'Dumpling House', 'Fiery Hot Pot Buffet', 'Wasabi Bistro', 'Wildseed', 'HRD', 'Alamo Square Seafood Grill', 'Shabu Club', 'Sunset Shabu', 'Panchita’s Restaurant', 'Peaches Patties Jamaican Kitchen', 'Glaze Teriyaki', 'Supreme Crab', 'Old Jerusalem Restaurant', 'Saucy Asian', 'KKOCHI Grilled Korean BBQ', 'Dokkaebier', 'Izakaya Sozai', 'Nara']\n"
     ]
    }
   ],
   "source": [
    "%run 'src/recommendations.py'"
   ]
  },
  {
   "cell_type": "code",
   "execution_count": null,
   "metadata": {},
   "outputs": [],
   "source": []
  },
  {
   "cell_type": "code",
   "execution_count": null,
   "metadata": {},
   "outputs": [],
   "source": []
  }
 ],
 "metadata": {
  "kernelspec": {
   "display_name": "Python 3",
   "language": "python",
   "name": "python3"
  },
  "language_info": {
   "codemirror_mode": {
    "name": "ipython",
    "version": 3
   },
   "file_extension": ".py",
   "mimetype": "text/x-python",
   "name": "python",
   "nbconvert_exporter": "python",
   "pygments_lexer": "ipython3",
   "version": "3.7.4"
  }
 },
 "nbformat": 4,
 "nbformat_minor": 2
}
